{
 "cells": [
  {
   "cell_type": "code",
   "execution_count": null,
   "metadata": {},
   "outputs": [],
   "source": [
    "pip install openai"
   ]
  },
  {
   "cell_type": "code",
   "execution_count": 2,
   "metadata": {},
   "outputs": [
    {
     "name": "stdout",
     "output_type": "stream",
     "text": [
      "['Judgement', 'Temperance', 'The Lovers']\n"
     ]
    }
   ],
   "source": [
    "import random\n",
    "\n",
    "\n",
    "deck = [\n",
    "    \"The Fool\", \"The Magician\", \"The High Priestess\", \"The Empress\", \"The Emperor\",\n",
    "    \"The Hierophant\", \"The Lovers\", \"The Chariot\", \"Strength\", \"The Hermit\",\n",
    "    \"Wheel of Fortune\", \"Justice\", \"The Hanged Man\", \"Death\", \"Temperance\",\n",
    "    \"The Devil\", \"The Tower\", \"The Star\", \"The Moon\", \"The Sun\",\n",
    "    \"Judgement\", \"The World\"\n",
    "]\n",
    "\n",
    "\n",
    "draw = random.sample(deck, 3)\n",
    "\n",
    "\n",
    "print(draw)\n",
    "\n"
   ]
  },
  {
   "cell_type": "code",
   "execution_count": 3,
   "metadata": {},
   "outputs": [],
   "source": [
    "input = (\"You are a tarot reader, and you drew cards {card1}, {card2} and {card3} \"\n",
    "         \"from the tarot deck for me. What future do you see for me? Answer me like a tarot \"\n",
    "         \"reader in portuguese.\").format(card1=draw[0], card2=draw[1], card3=draw[2])"
   ]
  },
  {
   "cell_type": "code",
   "execution_count": null,
   "metadata": {},
   "outputs": [],
   "source": [
    "from openai import OpenAI\n",
    "\n",
    "\n",
    "client = OpenAI(\n",
    "     api_key = \"insert-your-secret-key-here\"\n",
    ")\n",
    "\n",
    "\n",
    "stream = client.chat.completions.create(\n",
    "    model=\"gpt-3.5-turbo-0125\",\n",
    "    messages=[{\"role\": \"user\", \"content\": input}],\n",
    "    stream=True,\n",
    ")\n",
    "for chunk in stream:\n",
    "    if chunk.choices[0].delta.content is not None:\n",
    "        print(chunk.choices[0].delta.content, end=\"\")"
   ]
  }
 ],
 "metadata": {
  "kernelspec": {
   "display_name": "Python 3",
   "language": "python",
   "name": "python3"
  },
  "language_info": {
   "codemirror_mode": {
    "name": "ipython",
    "version": 3
   },
   "file_extension": ".py",
   "mimetype": "text/x-python",
   "name": "python",
   "nbconvert_exporter": "python",
   "pygments_lexer": "ipython3",
   "version": "3.10.13"
  }
 },
 "nbformat": 4,
 "nbformat_minor": 2
}
